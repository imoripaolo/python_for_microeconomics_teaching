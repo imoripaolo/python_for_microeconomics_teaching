{
 "cells": [
  {
   "cell_type": "code",
   "execution_count": 4,
   "id": "890e4bca",
   "metadata": {},
   "outputs": [],
   "source": [
    "\"\"\"\"\n",
    "\n",
    "Model of Matching Pennies / Modelo de Matching Pennies\n",
    "\n",
    "Author / Autor: imoripaolo\n",
    "\n",
    "Based of / Baseado em: Tadelis, sec 6.2.1\n",
    "\n",
    "\"\"\"\"\"\n",
    "import numpy as np\n",
    "import matplotlib.pyplot as plt\n",
    "import math as math"
   ]
  },
  {
   "cell_type": "code",
   "execution_count": 5,
   "id": "f876983a",
   "metadata": {},
   "outputs": [],
   "source": [
    "\"\"\"\"\n",
    "\n",
    "Matching Pennies:\n",
    "\n",
    "Action Space / Espaço de Ações: A = {H,T}\n",
    "\n",
    "Payoffs : \n",
    "\n",
    "u_1 = 1 iff a_1 = a_2 ; u_1 = -1 iff a_1 =/= a_2\n",
    "u_2 = 1 iff a_1 =/= a_2 ; u_2 = -1 iff a_1 = a_2\n",
    "\n",
    "-----\n",
    "\n",
    "There's no NE in pure strategies. We want to check all mixed strategy NE of the game. For that, we\n",
    "check the \"best response probability\" of playing strategy a_i.\n",
    "\n",
    "Não há EN em estratégias puras. Queremos verificar todas os EN em estratégias mistas do jogo. Para \n",
    "tal, queremos verificar a \"probabilidade best response\" de jogar a estratégia a_i.\n",
    "\n",
    "\"\"\"\"\"\n",
    "\n",
    "# Probabilities of playing H / Probabilidade de jogar H:\n",
    "p, q, prob  = np.zeros(100), np.zeros(100), np.zeros(100)\n",
    "\n",
    "for i in range(0,100):\n",
    "    prob[i] = (i+1)/100\n",
    "\n",
    "\n",
    "# Expected Utility Function / Funções de Utilidade Esperada:\n",
    "def u1(q):\n",
    "    u1H = q - (1-q)\n",
    "    u1T = -q + (1-q)\n",
    "    p = np.argmax(prob*u1H + (1-prob)*u1T)\n",
    "    return p\n",
    "\n",
    "def u2(p):\n",
    "    u2H = -p + (1-p)\n",
    "    u2T = p - (1-p)\n",
    "    q = np.argmax(prob*u2H + (1-prob)*u2T)\n",
    "    return q"
   ]
  },
  {
   "cell_type": "code",
   "execution_count": 6,
   "id": "ef9a871c",
   "metadata": {},
   "outputs": [
    {
     "data": {
      "image/png": "[encoded data removed]",
      "text/plain": [
       "<Figure size 432x288 with 1 Axes>"
      ]
     },
     "metadata": {
      "needs_background": "light"
     },
     "output_type": "display_data"
    },
    {
     "data": {
      "image/png": "[encoded data removed]",
      "text/plain": [
       "<Figure size 432x288 with 1 Axes>"
      ]
     },
     "metadata": {
      "needs_background": "light"
     },
     "output_type": "display_data"
    }
   ],
   "source": [
    "# Now, we check what values of p and q maximizes the expected utility and plot the graph.\n",
    "# Agora, verificamos quais valores de p e q maximizam a utilidade esperada e plotamos o gráfico.\n",
    "\n",
    "for i in range(0,100):\n",
    "    p[i] = u1(prob[i])\n",
    "    q[i] = u2(prob[i])\n",
    "    \n",
    "fig, ax = plt.subplots()\n",
    "ax.plot(p,'b')\n",
    "ax.set_ylabel('p')\n",
    "ax.set_xlabel('q')\n",
    "plt.show()\n",
    "\n",
    "fig, ax = plt.subplots()\n",
    "ax.plot(q,'b')\n",
    "ax.set_ylabel('q')\n",
    "ax.set_xlabel('p')\n",
    "plt.show()\n",
    "\n"
   ]
  },
  {
   "cell_type": "code",
   "execution_count": null,
   "id": "27c477ec",
   "metadata": {},
   "outputs": [],
   "source": []
  }
 ],
 "metadata": {
  "kernelspec": {
   "display_name": "Python 3",
   "language": "python",
   "name": "python3"
  },
  "language_info": {
   "codemirror_mode": {
    "name": "ipython",
    "version": 3
   },
   "file_extension": ".py",
   "mimetype": "text/x-python",
   "name": "python",
   "nbconvert_exporter": "python",
   "pygments_lexer": "ipython3",
   "version": "3.8.8"
  }
 },
 "nbformat": 4,
 "nbformat_minor": 5
}
