{
 "cells": [
  {
   "cell_type": "code",
   "execution_count": 2,
   "id": "a6d65a2c",
   "metadata": {},
   "outputs": [],
   "source": [
    "\"\"\"\n",
    "\n",
    "Ploting Cost Curves / Plotando Curvas de Custo\n",
    "\n",
    "Author / Autor: imoripaolo\n",
    "\n",
    "Based of Varian (undergrad), cost curve chapter / Varian (graduação), capítulo de curva de custos\n",
    "\n",
    "\"\"\"\n",
    "\n",
    "import numpy as np\n",
    "import matplotlib.pyplot as plt"
   ]
  },
  {
   "cell_type": "code",
   "execution_count": 2,
   "id": "9e1f7fbe",
   "metadata": {},
   "outputs": [],
   "source": [
    "\"\"\"\n",
    "We'll plot the main cost curves for a given cost function:\n",
    "\n",
    "c(q) = q^2 + 1\n",
    "\n",
    "Marginal Cost: MC(q)= 2q\n",
    "\n",
    "Average Cost: AC(q) = q + 1/q\n",
    "\n",
    "Variable Cost: VC(q) = q^2\n",
    "\n",
    "Fixed Cost: FC(q) = 1\n",
    "\n",
    "Average Variable Cost: AVC(q) = q\n",
    "\n",
    "Average Fixed Cost: AFC(q) = 1/q\n",
    "\n",
    "----\n",
    "\n",
    "Vamos plotar as principais curvas de custo para uma dada função de custo:\n",
    "\n",
    "c(q) = q^2 + 1\n",
    "\n",
    "Custo Marginal: MC(q)= 2q\n",
    "\n",
    "Custo Médio: AC(q) = q + 1/q\n",
    "\n",
    "Custo Variável: VC(q) = q^2\n",
    "\n",
    "Custo Fixo: FC(q) = 1\n",
    "\n",
    "Custo Variável Médio: AVC(q) = q\n",
    "\n",
    "Custo Fixo Médio: AFC(q) = 1/q\n",
    "\n",
    "\"\"\"\n",
    "\n",
    "# Let's create a quantity vector, plus one vector for each function.\n",
    "# Vamos criar um vetor de quantidades, mais um vetor para cada função.\n",
    "\n",
    "q = np.linspace(0.1,4, 100)\n",
    "C, MC, AC, VC  = np.zeros(100), np.zeros(100), np.zeros(100),np.zeros(100)\n",
    "FC, AVC, AFC = np.zeros(100), np.zeros(100), np.zeros(100)\n",
    "\n",
    "# Let's use the for loop to fill these zero vectors.\n",
    "# Vamos usar o loop for para preencher esses vetores de zeros.\n",
    "\n",
    "for i in range(0,100):\n",
    "    C[i] = q[i]**2 + 1\n",
    "    MC[i] = 2*q[i]\n",
    "    AC[i] = q[i] + (1/q[i])\n",
    "    VC[i] = q[i]**2\n",
    "    FC[i] = 1\n",
    "    AVC[i] = q[i]\n",
    "    AFC[i] = 1/q[i]"
   ]
  },
  {
   "cell_type": "code",
   "execution_count": 3,
   "id": "e0f2c97d",
   "metadata": {},
   "outputs": [
    {
     "data": {
      "image/png": "[encoded data removed]",
      "text/plain": [
       "<Figure size 432x288 with 1 Axes>"
      ]
     },
     "metadata": {
      "needs_background": "light"
     },
     "output_type": "display_data"
    }
   ],
   "source": [
    "# Let's plot the curves / Vamos plotar as curvas\n",
    "\n",
    "fig, ax = plt.subplots()\n",
    "ax.plot(q, MC,'b',label='MC')\n",
    "ax.plot(q, AC,'r', label='AC')\n",
    "ax.plot(q, AVC,'g', label='AVC')\n",
    "ax.plot(q, FC,'k', label='FC')\n",
    "ax.plot(q, AFC,'m', label='AFC')\n",
    "plt.legend()\n",
    "plt.show()\n"
   ]
  },
  {
   "cell_type": "code",
   "execution_count": 1,
   "id": "905bd042",
   "metadata": {},
   "outputs": [
    {
     "ename": "NameError",
     "evalue": "name 'plt' is not defined",
     "output_type": "error",
     "traceback": [
      "\u001b[1;31m---------------------------------------------------------------------------\u001b[0m",
      "\u001b[1;31mNameError\u001b[0m                                 Traceback (most recent call last)",
      "\u001b[1;32m<ipython-input-1-27af84a75a75>\u001b[0m in \u001b[0;36m<module>\u001b[1;34m\u001b[0m\n\u001b[0;32m      1\u001b[0m \u001b[1;31m# Let's plot again, for max q = 2 / Vamos plotar novamente, para max q = 2:\u001b[0m\u001b[1;33m\u001b[0m\u001b[1;33m\u001b[0m\u001b[1;33m\u001b[0m\u001b[0m\n\u001b[0;32m      2\u001b[0m \u001b[1;33m\u001b[0m\u001b[0m\n\u001b[1;32m----> 3\u001b[1;33m \u001b[0mfig\u001b[0m\u001b[1;33m,\u001b[0m \u001b[0max\u001b[0m \u001b[1;33m=\u001b[0m \u001b[0mplt\u001b[0m\u001b[1;33m.\u001b[0m\u001b[0msubplots\u001b[0m\u001b[1;33m(\u001b[0m\u001b[1;33m)\u001b[0m\u001b[1;33m\u001b[0m\u001b[1;33m\u001b[0m\u001b[0m\n\u001b[0m\u001b[0;32m      4\u001b[0m \u001b[0mplt\u001b[0m\u001b[1;33m.\u001b[0m\u001b[0mxlim\u001b[0m\u001b[1;33m(\u001b[0m\u001b[1;33m[\u001b[0m\u001b[1;36m0\u001b[0m\u001b[1;33m,\u001b[0m \u001b[1;36m2\u001b[0m\u001b[1;33m]\u001b[0m\u001b[1;33m)\u001b[0m\u001b[1;33m\u001b[0m\u001b[1;33m\u001b[0m\u001b[0m\n\u001b[0;32m      5\u001b[0m \u001b[0mplt\u001b[0m\u001b[1;33m.\u001b[0m\u001b[0mylim\u001b[0m\u001b[1;33m(\u001b[0m\u001b[1;33m[\u001b[0m\u001b[1;36m0\u001b[0m\u001b[1;33m,\u001b[0m \u001b[1;36m4\u001b[0m\u001b[1;33m]\u001b[0m\u001b[1;33m)\u001b[0m\u001b[1;33m\u001b[0m\u001b[1;33m\u001b[0m\u001b[0m\n",
      "\u001b[1;31mNameError\u001b[0m: name 'plt' is not defined"
     ]
    }
   ],
   "source": [
    "# Let's plot again, for max q = 2 / Vamos plotar novamente, para max q = 2:\n",
    "\n",
    "fig, ax = plt.subplots()\n",
    "plt.xlim([0, 2])\n",
    "plt.ylim([0, 4])\n",
    "ax.plot(q, MC,'b',label='MC')\n",
    "ax.plot(q, AC,'r', label='AC')\n",
    "plt.legend()\n",
    "plt.show()\n",
    "\n",
    "barq = q[np.argmin(AC)]\n"
   ]
  },
  {
   "cell_type": "code",
   "execution_count": null,
   "id": "ce15b3ce",
   "metadata": {},
   "outputs": [],
   "source": []
  }
 ],
 "metadata": {
  "kernelspec": {
   "display_name": "Python 3",
   "language": "python",
   "name": "python3"
  },
  "language_info": {
   "codemirror_mode": {
    "name": "ipython",
    "version": 3
   },
   "file_extension": ".py",
   "mimetype": "text/x-python",
   "name": "python",
   "nbconvert_exporter": "python",
   "pygments_lexer": "ipython3",
   "version": "3.8.8"
  }
 },
 "nbformat": 4,
 "nbformat_minor": 5
}
