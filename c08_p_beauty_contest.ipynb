{
 "cells": [
  {
   "cell_type": "code",
   "execution_count": 1,
   "id": "09a5f27e",
   "metadata": {},
   "outputs": [],
   "source": [
    "\"\"\"\"\n",
    "\n",
    "Model of Beauty Contest / Modelo de \"Concurso de Beleza\"\n",
    "\n",
    "Author / Autor: imoripaolo\n",
    "\n",
    "Based of / Baseado em: Tadelis, 4.3.5\n",
    "\n",
    "\"\"\"\"\"\n",
    "\n",
    "import numpy as np\n",
    "import matplotlib.pyplot as plt\n",
    "import math as math"
   ]
  },
  {
   "cell_type": "code",
   "execution_count": 2,
   "id": "ad2a9bd3",
   "metadata": {},
   "outputs": [
    {
     "data": {
      "text/plain": [
       "'\\np-Beauty Contest: N players choose integers from [1,m], and the winner is the one who chooses the\\nclosest value to p times the average. More than one player can win the game.\\n\\n---\\n\\np-Concurso de Beleza: N jogadores escolhem inteiros entre [1,m], e o vencedor é aquele que escolhe \\no valor mais próximo de p vezes a média. Mais de um jogador pode vencer o jogo.\\n\\n'"
      ]
     },
     "execution_count": 2,
     "metadata": {},
     "output_type": "execute_result"
    }
   ],
   "source": [
    "\"\"\"\n",
    "p-Beauty Contest: N players choose integers from [1,m], and the winner is the one who chooses the\n",
    "closest value to p times the average. More than one player can win the game.\n",
    "\n",
    "---\n",
    "\n",
    "p-Concurso de Beleza: N jogadores escolhem inteiros entre [1,m], e o vencedor é aquele que escolhe \n",
    "o valor mais próximo de p vezes a média. Mais de um jogador pode vencer o jogo.\n",
    "\n",
    "\"\"\"\n"
   ]
  },
  {
   "cell_type": "code",
   "execution_count": 3,
   "id": "3cf16e9a",
   "metadata": {},
   "outputs": [
    {
     "data": {
      "image/png": "[encoded data removed]",
      "text/plain": [
       "<Figure size 432x288 with 1 Axes>"
      ]
     },
     "metadata": {
      "needs_background": "light"
     },
     "output_type": "display_data"
    },
    {
     "name": "stdout",
     "output_type": "stream",
     "text": [
      "Mínimo: i= 7\n"
     ]
    }
   ],
   "source": [
    "\"\"\"\"\n",
    "We'll check a best response for each average and each number of players in the following way:\n",
    "\n",
    "Suppose every other N-1 player plays J. What's the closest integer to the p-average I can play to win?\n",
    "\n",
    "NE: for the game with N players, playing J is NE iff J is best response to J.\n",
    "\n",
    "p-Average = p(i + (N-1)*J)/N\n",
    "\n",
    "Best Response: min_i {i - p(i + (N-1)*J)}\n",
    "---\n",
    "\n",
    "Vamos verificar uma melhor resposta para cada média e cada número de jogadores da seguinte forma:\n",
    "\n",
    "Suponha que cada outro N-1 jogador escolha J. Qual o inteiro mais próximo da p-média eu posso jogar\n",
    "para vencer?\n",
    "\n",
    "EN: para o jogo com N jogadores, escolher J é EN see J é melhor resposta para J.\n",
    "\n",
    "\"\"\"\"\"\n",
    "# Example / Exemplo: p = 3/4, m = 20, N = 100,  J = 10\n",
    "p, m, N, J = 0.75, 20, 100, 10\n",
    "i = np.zeros(m)\n",
    "p_ave = np.zeros(m)\n",
    "diff = np.zeros(m)\n",
    "for j in range(0,m):\n",
    "    i[j] = j+1\n",
    "    p_ave[j] = p*(i[j] + (N-1)*J)/N\n",
    "    diff[j] = abs(i[j] - p_ave[j])\n",
    "    \n",
    "fig, ax = plt.subplots()\n",
    "ax.plot(i,'b')\n",
    "ax.plot(p_ave,'r')\n",
    "ax.plot(diff,'m')\n",
    "plt.show()\n",
    "\n",
    "print(\"Mínimo: i=\", np.argmin(diff)+1)\n"
   ]
  },
  {
   "cell_type": "code",
   "execution_count": 4,
   "id": "d4ab08a0",
   "metadata": {},
   "outputs": [],
   "source": [
    "# Now, we will try to generalize / Agora vamos tentar generalizar:\n",
    "\n",
    "s = np.zeros((N,m))\n",
    "\n",
    "def br_function(N,J,p):\n",
    "    i = np.zeros(m)\n",
    "    p_ave = np.zeros(m)\n",
    "    diff = np.zeros(m)\n",
    "    for j in range(0,m):\n",
    "        i[j] = j+1\n",
    "        p_ave[j] = p*(i[j] + (N-1)*J)/N\n",
    "        diff[j] = abs(i[j] - p_ave[j])\n",
    "    argmin = np.argmin(diff) + 1\n",
    "    return argmin\n",
    "\n",
    "for i in range(0,m):\n",
    "    for j in range(0,N):\n",
    "        s[j][i] = br_function(N=j+1,J=i+1,p=p)    "
   ]
  },
  {
   "cell_type": "code",
   "execution_count": 5,
   "id": "219ac547",
   "metadata": {},
   "outputs": [
    {
     "data": {
      "text/plain": [
       "[<matplotlib.lines.Line2D at 0x1b36ff86220>]"
      ]
     },
     "execution_count": 5,
     "metadata": {},
     "output_type": "execute_result"
    },
    {
     "data": {
      "image/png": "[encoded data removed]",
      "text/plain": [
       "<Figure size 432x288 with 1 Axes>"
      ]
     },
     "metadata": {
      "needs_background": "light"
     },
     "output_type": "display_data"
    }
   ],
   "source": [
    "# We'll check the best responses for 5, 10, and 15 players\n",
    "# Vamos ver as melhores respostas para 5, 10, e 15 jogadores\n",
    "\n",
    "s5,s10, s15 = np.zeros(m), np.zeros(m), np.zeros(m)\n",
    "for i in range(0,m):\n",
    "    s5[i],s10[i], s15[i] = s[5][i], s[10][i], s[15][i]\n",
    "\n",
    "    \n",
    "fig, ax = plt.subplots()\n",
    "ax.plot(s5,'b')\n",
    "ax.plot(s10,'r')\n",
    "ax.plot(s15,'m')\n"
   ]
  },
  {
   "cell_type": "code",
   "execution_count": null,
   "id": "d394837e",
   "metadata": {},
   "outputs": [],
   "source": []
  }
 ],
 "metadata": {
  "kernelspec": {
   "display_name": "Python 3",
   "language": "python",
   "name": "python3"
  },
  "language_info": {
   "codemirror_mode": {
    "name": "ipython",
    "version": 3
   },
   "file_extension": ".py",
   "mimetype": "text/x-python",
   "name": "python",
   "nbconvert_exporter": "python",
   "pygments_lexer": "ipython3",
   "version": "3.8.8"
  }
 },
 "nbformat": 4,
 "nbformat_minor": 5
}
