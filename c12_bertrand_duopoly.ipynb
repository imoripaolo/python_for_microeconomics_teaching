{
 "cells": [
  {
   "cell_type": "code",
   "execution_count": 1,
   "id": "49fc9802",
   "metadata": {},
   "outputs": [],
   "source": [
    "\"\"\"\"\n",
    "\n",
    "Model of Bertrand Duopoly / Modelo de Duopólio de Bertrand\n",
    "\n",
    "Author / Autor: imoripaolo\n",
    "\n",
    "Based of / Baseado em: Tadelis, sec 5.2.4\n",
    "\n",
    "\"\"\"\"\"\n",
    "\n",
    "import numpy as np\n",
    "import matplotlib.pyplot as plt\n",
    "import math as math"
   ]
  },
  {
   "cell_type": "code",
   "execution_count": 2,
   "id": "f6065cdb",
   "metadata": {},
   "outputs": [],
   "source": [
    "\"\"\"\"\n",
    "Bertrand Duopoly: two symmetric firms with some market power maximize profits choosing price.\n",
    "\n",
    "Duopólio de Bertrand: duas firmas simétricas com algum poder de mercado maximizam lucros escolhendo \n",
    "preço.\n",
    "\n",
    "Cost / Custo: c_j(q_j) = 10q_j for j = 1,2\n",
    "\n",
    "Market Demand / Demanda de Mercado: p = 100 - q\n",
    "\n",
    "Market Supply / Oferta de Mercado: q = q_1 + q_2\n",
    "\n",
    "------\n",
    "\n",
    "Demand for firm j=1,2 depends on whose price is lower:  \n",
    "\n",
    "Demanda para firma j=1,2 depende de qual preço é menor:\n",
    "\n",
    "q_j = 1_{p_j < p_i}[100 - p_j] + 1_{p_j = p_i}[(100 - p_j)/2] + 1_{p_j > p_i}[0] \n",
    "\n",
    "Profit for firm j=1,2 / Lucro para a firma j=1,2:\n",
    "\n",
    "pi_j = 1_{p_j < p_i}[(100 - p_j)(p_j-10)] + 1_{p_j = p_i}[(100 - p_j)(p_j-10)/2] + 1_{p_j > p_i}[0]\n",
    "\n",
    "\"\"\"\"\"\n",
    "c=10\n",
    "\n",
    "def BR_bertrand(pi,pj):\n",
    "    if pi > c:\n",
    "        if pi < pj:\n",
    "            p = pi\n",
    "        elif pi == pj:\n",
    "            p = pi - 1\n",
    "        else:\n",
    "            p = pi - ((pi+pj)/4)\n",
    "    else:\n",
    "        p = c\n",
    "    return p\n",
    "\n",
    "\n",
    "def profit(pi,pj):\n",
    "    if pi < pj:\n",
    "        profit = (100-pi)*(pi-c)\n",
    "    elif pi == pj:\n",
    "        profit = (100-pi)*(pi-c)/2\n",
    "    else:\n",
    "        profit=0\n",
    "    return profit   "
   ]
  },
  {
   "cell_type": "code",
   "execution_count": 5,
   "id": "109022b3",
   "metadata": {},
   "outputs": [
    {
     "name": "stdout",
     "output_type": "stream",
     "text": [
      "O lucro da firma é pi_1= 0.0 e o lucro da firma 2 é pi_2= 1800.0\n"
     ]
    }
   ],
   "source": [
    "\"\"\"\"\n",
    "We won't calculate a Nash Equilibrium (NE) right now. We'll simply choose arbitrary initial prices\n",
    "for each firm and see how they decide to change their prices based on their best responses and\n",
    "what happened previously. We also want to see what happens to profits as time goes on.\n",
    "\n",
    "---\n",
    "\n",
    "Não vamos calcular um Equilíbrio de Nash (EN) no momento. Vamos simplesmente escolher preços iniciais\n",
    "arbitrários para cada firma e ver como elas mudam seus preços com base em suas melhores\n",
    "respostas e no que aconteceu anteriormente. Também queremos ver o que ocorre com lucros\n",
    "conforme o tempo progride.\n",
    "\n",
    "\"\"\"\"\"\n",
    "\n",
    "T = 10\n",
    "p1, p2, pi1, pi2 = np.zeros(T), np.zeros(T), np.zeros(T), np.zeros(T)\n",
    "p1[0], p2[0] = 50, 40\n",
    "pi1[0] = profit(p1[0], p2[0])\n",
    "pi2[0] = profit(p2[0], p1[0])\n",
    "\n",
    "print(\"O lucro da firma é pi_1=\", pi1[0], \"e o lucro da firma 2 é pi_2=\", pi2[0])"
   ]
  },
  {
   "cell_type": "code",
   "execution_count": 6,
   "id": "c59b0182",
   "metadata": {},
   "outputs": [
    {
     "data": {
      "image/png": "[encoded data removed]",
      "text/plain": [
       "<Figure size 432x288 with 1 Axes>"
      ]
     },
     "metadata": {
      "needs_background": "light"
     },
     "output_type": "display_data"
    }
   ],
   "source": [
    "\"\"\"\"\n",
    "Now, we see how firms update their actions on each period and plot the evolution of prices\n",
    "\n",
    "---\n",
    "\n",
    "Agora, vamos ver como as firmas atualizam suas ações em cada período e plotar a evolução dos preços\n",
    "\n",
    "\"\"\"\"\"\n",
    "\n",
    "for t in range(1,T):\n",
    "    p1[t], p2[t] = BR_bertrand(p1[t-1], p2[t-1]), BR_bertrand(p2[t-1], p1[t-1])\n",
    "    pi1[t] = profit(p1[t], p2[t])\n",
    "    pi2[t] = profit(p2[t], p1[t])\n",
    "    \n",
    "fig, ax = plt.subplots()\n",
    "ax.plot(p1,'b')\n",
    "ax.plot(p2,'r')\n",
    "ax.set_ylabel('p1,p2')\n",
    "ax.set_xlabel('t')\n",
    "plt.show()"
   ]
  },
  {
   "cell_type": "code",
   "execution_count": null,
   "id": "f52e2307",
   "metadata": {},
   "outputs": [],
   "source": []
  }
 ],
 "metadata": {
  "kernelspec": {
   "display_name": "Python 3",
   "language": "python",
   "name": "python3"
  },
  "language_info": {
   "codemirror_mode": {
    "name": "ipython",
    "version": 3
   },
   "file_extension": ".py",
   "mimetype": "text/x-python",
   "name": "python",
   "nbconvert_exporter": "python",
   "pygments_lexer": "ipython3",
   "version": "3.8.8"
  }
 },
 "nbformat": 4,
 "nbformat_minor": 5
}
