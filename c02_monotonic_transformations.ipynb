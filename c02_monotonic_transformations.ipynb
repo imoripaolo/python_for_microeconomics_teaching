{
 "cells": [
  {
   "cell_type": "code",
   "execution_count": 1,
   "id": "853e56e5",
   "metadata": {},
   "outputs": [],
   "source": [
    "\"\"\"\n",
    "\n",
    "Ilustrating Monotonic Transformations / Ilustrando Transformações Monotônicas\n",
    "\n",
    "Author / Autor: imoripaolo\n",
    "\n",
    "\"\"\"\n",
    "\n",
    "import numpy as np\n",
    "import matplotlib.pyplot as plt"
   ]
  },
  {
   "cell_type": "code",
   "execution_count": 2,
   "id": "5a3bdfd1",
   "metadata": {},
   "outputs": [],
   "source": [
    "\"\"\"\n",
    "Our objective is to illustrate that we can apply monotonic transformations in utility functions.\n",
    "\n",
    "This won't change the preference relation of the consumer.\n",
    "\n",
    "For the basic function, we'll use a Cobb-Douglas function:\n",
    "\n",
    "u(x_1,x_2) = x_1^(0.2)*x_2^(0.4)\n",
    "\n",
    "We'll propose two monotonic transformations:\n",
    "\n",
    "v_1(x_1,x_2) = x_1^(0.4)*x_2^(0.8)\n",
    "\n",
    "v_2(x_1,x_2) = 0.2 ln x_1 + 0.4 ln x_2\n",
    "----\n",
    "Nosso objetivo é ilustrar que é possível aplicar transferências monotônicas em funções de utilidade.\n",
    "\n",
    "Isso não alterará a relação de preferências do consumidor.\n",
    "\n",
    "Para a função básica, vamos utilizar uma função Cobb-Douglas:\n",
    "\n",
    "u(x_1,x_2) = x_1^(0.2)*x_2^(0.4)\n",
    "\n",
    "Vamos propor duas transformações monotônicas:\n",
    "\n",
    "v_1(x_1,x_2) = x_1^(0.4)*x_2^(0.8)\n",
    "\n",
    "v_2(x_1,x_2) = 0.2 ln x_1 + 0.4 ln x_2\n",
    "\n",
    "\"\"\"\n",
    "\n",
    "def utility(x,y):\n",
    "    output = (x**0.2)*(y**0.4)\n",
    "    return output\n",
    "\n",
    "def v1(x,y):\n",
    "    output = (x**0.4)*(y**0.8)\n",
    "    return output\n",
    "\n",
    "def v2(x,y):\n",
    "    output = 0.2*np.log(x) + 0.4*np.log(y)\n",
    "    return output"
   ]
  },
  {
   "cell_type": "code",
   "execution_count": 3,
   "id": "638c8456",
   "metadata": {},
   "outputs": [
    {
     "name": "stdout",
     "output_type": "stream",
     "text": [
      "5.253055608807536 6.034176336545164 6.1780085056741205\n",
      "27.5945932292243 36.411284060521616 38.16778909618177\n",
      "1.6588099280204056 1.7974393641323947 1.8209959712636714\n"
     ]
    }
   ],
   "source": [
    "# First let's check cases of (x,y) where u(x_1,y_1) > u(x_2,y_2):\n",
    "# Primeiro, vamos verificar casos de (x,y) em que u(x_1,y_1) > u(x_2,y_2):\n",
    "\n",
    "print(utility(10,20), utility(20,20), utility(10,30))\n",
    "print(v1(10,20), v1(20,20), v1(10,30))\n",
    "print(v2(10,20), v2(20,20), v2(10,30))"
   ]
  },
  {
   "cell_type": "code",
   "execution_count": 4,
   "id": "54be0f88",
   "metadata": {},
   "outputs": [
    {
     "name": "stdout",
     "output_type": "stream",
     "text": [
      "1.741101126592248 1.741101126592248\n",
      "3.031433133020796 3.0314331330207955\n",
      "0.5545177444479562 0.5545177444479562\n"
     ]
    }
   ],
   "source": [
    "# Now, let's check cases of (x,y) where u(x_1,y_1) = u(x_2,y_2):\n",
    "# Agora, vamos verificar casos de (x,y) em que u(x_1,y_1) = u(x_2,y_2):\n",
    "\n",
    "print(utility(4,2), utility(1,(utility(4,2))**(1/0.4)))\n",
    "print(v1(4,2), v1(1,(utility(4,2))**(1/0.4)))\n",
    "print(v2(4,2), v2(1,(utility(4,2))**(1/0.4)))\n"
   ]
  },
  {
   "cell_type": "code",
   "execution_count": null,
   "id": "c6adab6f",
   "metadata": {},
   "outputs": [],
   "source": []
  }
 ],
 "metadata": {
  "kernelspec": {
   "display_name": "Python 3",
   "language": "python",
   "name": "python3"
  },
  "language_info": {
   "codemirror_mode": {
    "name": "ipython",
    "version": 3
   },
   "file_extension": ".py",
   "mimetype": "text/x-python",
   "name": "python",
   "nbconvert_exporter": "python",
   "pygments_lexer": "ipython3",
   "version": "3.8.8"
  }
 },
 "nbformat": 4,
 "nbformat_minor": 5
}
