{
 "cells": [
  {
   "cell_type": "code",
   "execution_count": 1,
   "id": "5b7ef0c7",
   "metadata": {},
   "outputs": [],
   "source": [
    "\"\"\"\n",
    "\n",
    "Model of Partial Competitive Equilibrium / Modelo de Equilíbrio Competitivo Parcial\n",
    "\n",
    "Author / Autor: imoripaolo\n",
    "\n",
    "Based of / Baseado em: MWG, 10.C\n",
    "\n",
    "\"\"\"\n",
    "\n",
    "import numpy as np\n",
    "import matplotlib.pyplot as plt\n",
    "import math as math"
   ]
  },
  {
   "cell_type": "code",
   "execution_count": 2,
   "id": "0948f814",
   "metadata": {},
   "outputs": [],
   "source": [
    "\"\"\"\n",
    "Each consumer have quasilinear preferences: u_i(m_i,x_i) = m_i + alpha_i*ln x_i\n",
    "\n",
    "The problem of the consumer can be expressed by: L = m_i + alpha_i*ln x_i - T[m_i + px_i - w_i]\n",
    "\n",
    "FOCs:\n",
    "    \n",
    "dL/dm = 1- T = 0 \n",
    "\n",
    "dL/dx = alpha_i/x_i -Tp = 0\n",
    "\n",
    "Therefore, x_i = alpha_i/p\n",
    "\n",
    "We assume alpha ~ U(1,10), w ~ U(200,300) and I=1000\n",
    "\n",
    "---\n",
    "\n",
    "Cada consumidor tem preferências quasilineares: u_i(m_i,x_i) = m_i + alpha_i*ln x_i\n",
    "\n",
    "O problema do consumidor pode ser expresso por: L = m_i + alpha_i*ln x_i - T[m_i + px_i - w_i]\n",
    "\n",
    "CPOs:\n",
    "    \n",
    "dL/dm = 1- T = 0 \n",
    "\n",
    "dL/dx = alpha_i/x_i -Tp = 0\n",
    "\n",
    "Logo, x_i = alpha_i/p\n",
    "\n",
    "Assumimos alpha ~ U(1,10), w ~ U(200,300) e I=1000\n",
    "\n",
    "\"\"\"\"\n",
    "\n",
    "alphas = np.random.uniform(low=1, high=10, size=1000)\n",
    "ws = np.random.uniform(low=200, high=300, size=1000)\n",
    "\n",
    "# We create a price vector, a individual demand function e a demand matrix\n",
    "# Criamos um vetor de preços, uma função de demanda individual e uma matriz de demandas.\n",
    "\n",
    "price = np.linspace(start=0.1,stop=1,num=500)\n",
    "\n",
    "def ind_dem(alpha,p):\n",
    "    dem = 2*alpha/p\n",
    "    return dem\n",
    "\n",
    "xi = np.zeros((1000,500))\n",
    "\n",
    "for i in range(0,1000):\n",
    "    for j in range(0,500):\n",
    "        xi[i][j] = ind_dem(alphas[i],price[j])\n",
    "        \n"
   ]
  },
  {
   "cell_type": "code",
   "execution_count": 3,
   "id": "6fd8d8a7",
   "metadata": {},
   "outputs": [
    {
     "data": {
      "image/png": "[encoded data removed]",
      "text/plain": [
       "<Figure size 432x288 with 1 Axes>"
      ]
     },
     "metadata": {
      "needs_background": "light"
     },
     "output_type": "display_data"
    }
   ],
   "source": [
    "# From individual demandas, we calculate the market demand for each price level.\n",
    "# A partir das demandas individuais, calculamos a demanda de mercado a cada nível de preços.\n",
    "\n",
    "x_aux = np.zeros((1000,500))\n",
    "\n",
    "for j in range(0,500):\n",
    "    x_aux[0][j] = xi[0][j]\n",
    "\n",
    "for i in range(1,1000):\n",
    "        x_aux[i] = x_aux[i-1] + xi[i]\n",
    "        \n",
    "x = np.zeros(500)\n",
    "\n",
    "for i in range(0,500):\n",
    "    x[i] =x_aux[999][i]\n",
    "\n",
    "fig, ax = plt.subplots()\n",
    "ax.plot(x,price,'b')\n",
    "ax.set_ylabel('p')\n",
    "ax.set_xlabel('x')\n",
    "plt.show()"
   ]
  },
  {
   "cell_type": "code",
   "execution_count": 4,
   "id": "c6c96176",
   "metadata": {},
   "outputs": [],
   "source": [
    "\"\"\"\"\n",
    "For the producers, we assume the cost funcion takes the format c_j = beta_j*ln q_j\n",
    "\n",
    "So, the supply function for the firm is given by q_j = gamma_j*e^(c_j) = gamma_j*e^p\n",
    "\n",
    "We assume gamma ~ U(1,10) and J = 700\n",
    "\n",
    "---\n",
    "Para as firmas, assumimos uma função de custo no formato c_j = beta_j*ln q_j\n",
    "\n",
    "Logo, a função de oferta da firma é dado por q_j = gamma_j*e^(c_j) = gamma_j*e^p\n",
    "\n",
    "Assumimos gamma ~ U(1,10) e J = 700\n",
    "\n",
    "\"\"\"\"\"\n",
    "\n",
    "gamma = np.random.uniform(low=1, high=10, size=700)\n",
    "\n",
    "# We create a supply function and a individual supply matrix\n",
    "# Criamos uma função de oferta e uma matriz de ofertas individuais\n",
    "\n",
    "def ind_sup(gamma,p):\n",
    "    sup = 6*gamma*math.exp(p)\n",
    "    return sup\n",
    "\n",
    "qi = np.zeros((700,500))\n",
    "\n",
    "# We now found the individual supply for each firm and each price level\n",
    "# Agora encontramos a oferta individual para cada firma e nível de preços\n",
    "\n",
    "for i in range(0,700):\n",
    "    for j in range(0,500):\n",
    "        qi[i][j] = ind_sup(gamma[i],price[j])"
   ]
  },
  {
   "cell_type": "code",
   "execution_count": 5,
   "id": "aba078ec",
   "metadata": {},
   "outputs": [
    {
     "data": {
      "image/png": "[encoded data removed]",
      "text/plain": [
       "<Figure size 432x288 with 1 Axes>"
      ]
     },
     "metadata": {
      "needs_background": "light"
     },
     "output_type": "display_data"
    }
   ],
   "source": [
    "# From individual supply, we calculate the market supply at each price level.\n",
    "# A partir das ofertas individuais, calculamos a oferta de mercado a cada nível de preços.\n",
    "\n",
    "q_aux = np.zeros((700,500))\n",
    "\n",
    "for j in range(0,500):\n",
    "    q_aux[0][j] = qi[0][j]\n",
    "\n",
    "for i in range(1,700):\n",
    "        q_aux[i] = q_aux[i-1] + qi[i]\n",
    "        \n",
    "q = np.zeros(500)\n",
    "\n",
    "for i in range(0,500):\n",
    "    q[i] =q_aux[699][i]\n",
    "\n",
    "fig, ax = plt.subplots()\n",
    "ax.plot(q,price,'b')\n",
    "ax.set_ylabel('p')\n",
    "ax.set_xlabel('q')\n",
    "plt.show()"
   ]
  },
  {
   "cell_type": "code",
   "execution_count": 6,
   "id": "0134b059",
   "metadata": {},
   "outputs": [
    {
     "data": {
      "image/png": "[encoded data removed]",
      "text/plain": [
       "<Figure size 432x288 with 1 Axes>"
      ]
     },
     "metadata": {
      "needs_background": "light"
     },
     "output_type": "display_data"
    },
    {
     "name": "stdout",
     "output_type": "stream",
     "text": [
      "Equilíbrio de Mercado: p*= 0.33627254509018034 q*= 32267.86772387658\n"
     ]
    }
   ],
   "source": [
    "# Now, let's generate a numeric solution and plot the equilibrium:\n",
    "# Agora, vamos gerar a solução numérica e plotar o equilíbrio:\n",
    "\n",
    "fig, ax = plt.subplots()\n",
    "ax.plot(q,price,'b')\n",
    "ax.plot(x,price,'r')\n",
    "ax.set_ylabel('p')\n",
    "ax.set_xlabel('x,q')\n",
    "plt.show()\n",
    "\n",
    "xS = (q-x)**2\n",
    "\n",
    "pstar = price[np.argmin(xS)]\n",
    "qstar = q[np.argmin(xS)]\n",
    "# print(\"Market Equilibrium: p* =\",pstar, \"q*=\", qstar )\n",
    "print(\"Equilíbrio de Mercado: p*=\",pstar, \"q*=\", qstar )\n"
   ]
  },
  {
   "cell_type": "code",
   "execution_count": null,
   "id": "228a61c3",
   "metadata": {},
   "outputs": [],
   "source": []
  }
 ],
 "metadata": {
  "kernelspec": {
   "display_name": "Python 3",
   "language": "python",
   "name": "python3"
  },
  "language_info": {
   "codemirror_mode": {
    "name": "ipython",
    "version": 3
   },
   "file_extension": ".py",
   "mimetype": "text/x-python",
   "name": "python",
   "nbconvert_exporter": "python",
   "pygments_lexer": "ipython3",
   "version": "3.8.8"
  }
 },
 "nbformat": 4,
 "nbformat_minor": 5
}
