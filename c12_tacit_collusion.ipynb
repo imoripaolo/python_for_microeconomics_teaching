{
 "cells": [
  {
   "cell_type": "code",
   "execution_count": 1,
   "id": "078b2a10",
   "metadata": {},
   "outputs": [],
   "source": [
    "\"\"\"\"\n",
    "\n",
    "Model of Tacit Collusion / Modelo de Colusão Tácita\n",
    "\n",
    "Author / Autor: imoripaolo\n",
    "\n",
    "Based of / Baseado em: Tadelis, sec 10.4\n",
    "\n",
    "\"\"\"\"\"\n",
    "\n",
    "import numpy as np\n",
    "import matplotlib.pyplot as plt\n",
    "import math as math"
   ]
  },
  {
   "cell_type": "code",
   "execution_count": 2,
   "id": "5c9a9a0e",
   "metadata": {},
   "outputs": [],
   "source": [
    "\"\"\"\n",
    "Tacit Collusion: two symmetric firms can collude, producing half the monopoly quantity each, or \n",
    "compete, producing the Cournot quantity.\n",
    "\n",
    "Colusão Tácita: duas firmas simétricas podem fazer colusão, produzindo cada uma metade da quantidade\n",
    "de monopólio, ou competir, produzindo a quantidade de Cournot.\n",
    "\n",
    "Cost / Custo: c_j(q_j) = 10q_j for j = 1,2\n",
    "\n",
    "Market Demand / Demanda de Mercado: p = 100 - q\n",
    "\n",
    "Market Supply / Oferta de Mercado: q = q_1 + q_2\n",
    "\n",
    "Discount Factor / Fator de Desconto: beta in (0,1)\n",
    "\n",
    "------\n",
    "\n",
    "Problem of the monopolist / Problema da Monopolista: pi(q) = (100-q)q - 10q\n",
    "\n",
    "FOC / CPO: 100 - 2q - 10 = 0\n",
    "\n",
    "Quantity / Quantidade: q = 45\n",
    "\n",
    "Profit / Lucro: pi(45) = 45^2 = 2025\n",
    "\n",
    "Profit for each firm / Lucro para cada firma: pi(45) = 2025/2\n",
    "------\n",
    "\n",
    "Problem of the Duopolist / Problema da Duopolista: pi(q_1) = (100-q_1-q_2)q_1-10q_1\n",
    "\n",
    "FOC / CPO: 100 - 2q_1 - q_2 - 10 = 0\n",
    "\n",
    "Best Response: q_1 = (1/2)*(90-q_2)\n",
    "\n",
    "Quantity / Quantidade: q_1 = 30\n",
    "\n",
    "Profit / Lucro: pi(30) = 30^2 = 900\n",
    "\n",
    "-----\n",
    "\n",
    "If a firm deviates / Se uma firma desvia: \n",
    "\n",
    "pi(q_a) = (100-30-22.5-10)30 = 1.425\n",
    "\n",
    "With collusion, firms produce q/2 = 22.5 each, and if they compete they produce q_i = 30 each.\n",
    "\n",
    "Com colusão, firmas produzem q/2 = 22.5 cada, e caso elas procurem competir, elas produzem q_1 = 30.\n",
    "\n",
    "\"\"\"\n",
    "\n",
    "beta = np.zeros(100)\n",
    "for i in range (0,100):\n",
    "    beta[i] = (i)/100"
   ]
  },
  {
   "cell_type": "code",
   "execution_count": 3,
   "id": "9e58c6ab",
   "metadata": {},
   "outputs": [],
   "source": [
    "\"\"\"\n",
    "We now calculate the present value of cooperating or deviating for different betas.\n",
    "\n",
    "Vamos agora calcular o valor presente de cooperar ou desviar para diferentes betas.\n",
    "\n",
    "\"\"\"\n",
    "\n",
    "def cooperate(beta):\n",
    "    payoff = (2025)/(2*(1-beta))\n",
    "    return payoff\n",
    "\n",
    "def deviate(beta):\n",
    "    payoff = 1425 + (900*beta)/(1-beta)\n",
    "    return payoff"
   ]
  },
  {
   "cell_type": "code",
   "execution_count": 4,
   "id": "f411e968",
   "metadata": {},
   "outputs": [
    {
     "data": {
      "image/png": "[encoded data removed]",
      "text/plain": [
       "<Figure size 432x288 with 1 Axes>"
      ]
     },
     "metadata": {
      "needs_background": "light"
     },
     "output_type": "display_data"
    }
   ],
   "source": [
    "# Let's see for what values of beta we have cooperation.\n",
    "# Vamos ver para quais valores de beta nós teremos cooperação.\n",
    "collusion, deviation, cooperation = np.zeros(100), np.zeros(100), np.zeros(100)\n",
    "for i in range(0,100):\n",
    "    collusion[i] = cooperate(beta[i])\n",
    "    deviation[i] = deviate(beta[i])\n",
    "    if collusion[i] - deviation[i] >0:\n",
    "        cooperation[i] = 1\n",
    "    else:\n",
    "        cooperation[i] = 0\n",
    "    \n",
    "fig, ax = plt.subplots()\n",
    "ax.plot(cooperation,'b')\n",
    "ax.set_ylabel('cooperation')\n",
    "ax.set_xlabel('beta')\n",
    "plt.show() \n",
    "  "
   ]
  },
  {
   "cell_type": "code",
   "execution_count": null,
   "id": "9457f041",
   "metadata": {},
   "outputs": [],
   "source": []
  },
  {
   "cell_type": "code",
   "execution_count": null,
   "id": "9dd29f50",
   "metadata": {},
   "outputs": [],
   "source": []
  }
 ],
 "metadata": {
  "kernelspec": {
   "display_name": "Python 3",
   "language": "python",
   "name": "python3"
  },
  "language_info": {
   "codemirror_mode": {
    "name": "ipython",
    "version": 3
   },
   "file_extension": ".py",
   "mimetype": "text/x-python",
   "name": "python",
   "nbconvert_exporter": "python",
   "pygments_lexer": "ipython3",
   "version": "3.8.8"
  }
 },
 "nbformat": 4,
 "nbformat_minor": 5
}
