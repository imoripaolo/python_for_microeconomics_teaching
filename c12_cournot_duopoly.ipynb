{
 "cells": [
  {
   "cell_type": "code",
   "execution_count": 1,
   "id": "19728530",
   "metadata": {},
   "outputs": [],
   "source": [
    "\"\"\"\"\n",
    "\n",
    "Model of Cournot Duopoly / Modelo de Duopólio de Cournot\n",
    "\n",
    "Author / Autor: imoripaolo\n",
    "\n",
    "Based of / Baseado em: Tadelis, example 3.1.2 / section 4.3.4\n",
    "\n",
    "\"\"\"\"\"\n",
    "\n",
    "import numpy as np\n",
    "import matplotlib.pyplot as plt\n",
    "import math as math"
   ]
  },
  {
   "cell_type": "code",
   "execution_count": 2,
   "id": "7c1483c0",
   "metadata": {},
   "outputs": [],
   "source": [
    "\"\"\"\"\n",
    "Cournot Duopoly: two symmetric firms with some market power maximize profits choosing quantity.\n",
    "\n",
    "Duopólio de Cournot: duas firmas simétricas com algum poder de mercado maximizam lucros escolhendo \n",
    "quantidade.\n",
    "\n",
    "Cost / Custo: c_j(q_j) = q_j^2 for j = 1,2\n",
    "\n",
    "Market Demand / Demanda de Mercado: p = 100 - q\n",
    "\n",
    "Market Supply / Oferta de Mercado: q = q_1 + q_2\n",
    "\n",
    "------\n",
    "\n",
    "Profit Maximization for the firm 1 / Maximização de Lucro para firma 1:\n",
    "\n",
    "pi_1(q_1) = (100 - q_1 - q_2)q_1 - q_1^2\n",
    "\n",
    "First Order Condition / Condição de Primeira Ordem: \n",
    "\n",
    "100 - 2q_1 - q_2 - 2q_1 = 0\n",
    "\n",
    "Best Response Function / Função de Melhor Resposta:\n",
    "\n",
    "q_1 = (1/4)*(100-q_2)\n",
    "\n",
    "\"\"\"\"\"\n",
    "\n",
    "def BR_function(x):\n",
    "    BR = (1/4)*(100-x)\n",
    "    return BR\n",
    "\n",
    "def price(x):\n",
    "    p = 100 - x\n",
    "    return p\n",
    "\n",
    "def profit(x1,x2):\n",
    "    pi = (100 - x1 - x2)*x1 - (x1**2)\n",
    "    return pi\n"
   ]
  },
  {
   "cell_type": "code",
   "execution_count": 3,
   "id": "c8e2d68c",
   "metadata": {},
   "outputs": [
    {
     "name": "stdout",
     "output_type": "stream",
     "text": [
      "Preço Inicial: p= 55.0 . Lucros Iniciais: pi_1= 450.0 e pi_2= 700.0\n"
     ]
    }
   ],
   "source": [
    "\"\"\"\"\n",
    "We won't calculate a Nash Equilibrium (NE) right now. We'll simply choose arbitrary initial quantities\n",
    "for each firm and see how they decide to change their production based on their best responses and\n",
    "what happened previously. We also want to see what happens to prices and profits as time goes on.\n",
    "\n",
    "---\n",
    "\n",
    "Não vamos calcular um Equilíbrio de Nash (EN) no momento. Vamos simplesmente escolher quantidades\n",
    "iniciais arbitrárias para cada firma e ver como elas mudam suas produções com base em suas melhores\n",
    "respostas e no que aconteceu anteriormente. Também queremos ver o que ocorre com preços e lucros\n",
    "conforme o tempo progride.\n",
    "\n",
    "\"\"\"\"\"\n",
    "T=10\n",
    "q1, q2, p, pi1, pi2 = np.zeros(T), np.zeros(T), np.zeros(T), np.zeros(T), np.zeros(T)  \n",
    "q1[0], q2[0] = 10, 35\n",
    "p[0] = price(q1[0]+q2[0])\n",
    "pi1[0] = profit(x1=q1[0], x2=q2[0])\n",
    "pi2[0] = profit(x1=q2[0], x2=q1[0])\n",
    "print(\"Preço Inicial: p=\", p[0], \". Lucros Iniciais: pi_1=\",pi1[0], \"e pi_2=\", pi2[0])\n",
    "#print(\"Initial price: p=\", p[0], \". Initial profits: pi_1=\",pi1[0], \"and pi_2=\", pi2[0])"
   ]
  },
  {
   "cell_type": "code",
   "execution_count": 4,
   "id": "b8f6a089",
   "metadata": {},
   "outputs": [],
   "source": [
    "\"\"\"\"\n",
    "Now, we see how firms update their actions on each period\n",
    "\n",
    "---\n",
    "\n",
    "Agora, vamos ver como as firmas atualizam suas ações em cada período\n",
    "\n",
    "\"\"\"\"\"\n",
    "\n",
    "for t in range(1,T):\n",
    "    q1[t], q2[t] = BR_function(q2[t-1]), BR_function(q1[t-1])\n",
    "    p[t] = price(q1[t] + q2[t])\n",
    "    pi1[t] = profit(q1[t], q2[t])\n",
    "    pi2[t] = profit(q2[t], q1[t])"
   ]
  },
  {
   "cell_type": "code",
   "execution_count": 5,
   "id": "16260bca",
   "metadata": {},
   "outputs": [
    {
     "data": {
      "image/png": "[encoded data removed]",
      "text/plain": [
       "<Figure size 432x288 with 1 Axes>"
      ]
     },
     "metadata": {
      "needs_background": "light"
     },
     "output_type": "display_data"
    },
    {
     "name": "stdout",
     "output_type": "stream",
     "text": [
      "Quantide de EN: q= 19.999942779541016\n"
     ]
    }
   ],
   "source": [
    "\"\"\"\"\n",
    "Plot 1: evolution of quantities:\n",
    "\n",
    "---\n",
    "\n",
    "Plot 1: evolução das quantidades:\n",
    "\n",
    "\"\"\"\"\"\n",
    "\n",
    "fig, ax = plt.subplots()\n",
    "ax.plot(q1,'b')\n",
    "ax.plot(q2,'r')\n",
    "ax.set_ylabel('q1,q2')\n",
    "ax.set_xlabel('t')\n",
    "plt.show()\n",
    "\n",
    "# print(\"NE Quantity: q=\", q1[T-1])\n",
    "print(\"Quantide de EN: q=\", q1[T-1])"
   ]
  },
  {
   "cell_type": "code",
   "execution_count": 6,
   "id": "3430642d",
   "metadata": {},
   "outputs": [
    {
     "data": {
      "image/png": "[encoded data removed]",
      "text/plain": [
       "<Figure size 432x288 with 1 Axes>"
      ]
     },
     "metadata": {
      "needs_background": "light"
     },
     "output_type": "display_data"
    },
    {
     "name": "stdout",
     "output_type": "stream",
     "text": [
      "Preço de EN: p= 60.00001907348633\n"
     ]
    }
   ],
   "source": [
    "\"\"\"\"\n",
    "Plot 2: evolution of prices:\n",
    "\n",
    "---\n",
    "\n",
    "Plot 2: evolução dos preços:\n",
    "\n",
    "\"\"\"\"\"\n",
    "\n",
    "fig, ax = plt.subplots()\n",
    "ax.plot(p,'b')\n",
    "ax.set_ylabel('p')\n",
    "ax.set_xlabel('t')\n",
    "plt.show()\n",
    "\n",
    "# print(\"NE Price: p=\", p[T-1])\n",
    "print(\"Preço de EN: p=\", p[T-1])"
   ]
  },
  {
   "cell_type": "code",
   "execution_count": 7,
   "id": "e47f014a",
   "metadata": {},
   "outputs": [
    {
     "data": {
      "image/png": "[encoded data removed]",
      "text/plain": [
       "<Figure size 432x288 with 1 Axes>"
      ]
     },
     "metadata": {
      "needs_background": "light"
     },
     "output_type": "display_data"
    },
    {
     "name": "stdout",
     "output_type": "stream",
     "text": [
      "Lucro de EN: pi= 799.9992370561813\n"
     ]
    }
   ],
   "source": [
    "\"\"\"\"\n",
    "Plot 3: evolution of profits:\n",
    "\n",
    "---\n",
    "\n",
    "Plot 3: evolução dos lucros:\n",
    "\n",
    "\"\"\"\"\"\n",
    "\n",
    "fig, ax = plt.subplots()\n",
    "ax.plot(pi1,'b')\n",
    "ax.plot(pi2,'r')\n",
    "ax.set_ylabel('pi1,pi2')\n",
    "ax.set_xlabel('t')\n",
    "plt.show()\n",
    "\n",
    "# print(\"NE Profit: pi=\", pi1[T-1])\n",
    "print(\"Lucro de EN: pi=\", pi1[T-1])"
   ]
  },
  {
   "cell_type": "code",
   "execution_count": 8,
   "id": "478b7507",
   "metadata": {},
   "outputs": [
    {
     "data": {
      "image/png": "[encoded data removed]",
      "text/plain": [
       "<Figure size 432x288 with 1 Axes>"
      ]
     },
     "metadata": {
      "needs_background": "light"
     },
     "output_type": "display_data"
    }
   ],
   "source": [
    "\"\"\"\"\n",
    "Plot 4: The Cournot Equilibrium:\n",
    "\n",
    "Now let's see the Nash Equilibrium of the model more clearly.\n",
    "\n",
    "---\n",
    "\n",
    "Plot 4: O Equilíbrio de Cournot\n",
    "\n",
    "Agora, vamos ver o Equilíbrio de Nash do modelo mais claramente.\n",
    "\n",
    "\"\"\"\"\"\n",
    "\n",
    "x = np.zeros(70)\n",
    "for i in range(0,70):\n",
    "    x[i] = i\n",
    "\n",
    "qi, qj = np.zeros(70), np.zeros(70)\n",
    "for i in range(0,70):\n",
    "    qi[i], qj[i] = BR_function(x[i]), BR_function(x[i])\n",
    "    \n",
    "fig, ax = plt.subplots()\n",
    "ax.plot(qi,x,'b')\n",
    "ax.plot(x,qj,'r')\n",
    "ax.set_ylabel('q2')\n",
    "ax.set_xlabel('q1')\n",
    "plt.show()"
   ]
  },
  {
   "cell_type": "code",
   "execution_count": null,
   "id": "0ea1ed6d",
   "metadata": {},
   "outputs": [],
   "source": []
  }
 ],
 "metadata": {
  "kernelspec": {
   "display_name": "Python 3",
   "language": "python",
   "name": "python3"
  },
  "language_info": {
   "codemirror_mode": {
    "name": "ipython",
    "version": 3
   },
   "file_extension": ".py",
   "mimetype": "text/x-python",
   "name": "python",
   "nbconvert_exporter": "python",
   "pygments_lexer": "ipython3",
   "version": "3.8.8"
  }
 },
 "nbformat": 4,
 "nbformat_minor": 5
}
