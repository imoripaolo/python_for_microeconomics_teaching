{
 "cells": [
  {
   "cell_type": "code",
   "execution_count": 1,
   "id": "d5e08757",
   "metadata": {},
   "outputs": [],
   "source": [
    "\"\"\"\"\n",
    "\n",
    "Model of Single Market Monopolist / Modelo de Monopolista de um Mercado\n",
    "\n",
    "Author / Autor: imoripaolo\n",
    "\n",
    "Based of / Baseado em: Nicholson & Snyder, example 14.1\n",
    "\n",
    "\"\"\"\"\"\n",
    "\n",
    "import numpy as np\n",
    "import matplotlib.pyplot as plt"
   ]
  },
  {
   "cell_type": "code",
   "execution_count": 2,
   "id": "a287d8a6",
   "metadata": {},
   "outputs": [],
   "source": [
    "\"\"\"\"\n",
    "Basic Functions / Funções Básicas:\n",
    "\n",
    "Market Demand / Demanda de Mercado: p(x) = 100 - (1/20)*x\n",
    "\n",
    "Cost Function / Função de Custo: c(q) = 0.05*q^2 + 10.000\n",
    "\n",
    "Market Clearing / Equilíbrio de Mercado: x(p) = q(p)\n",
    "\n",
    "Marginal Functions / Funções Marginais\n",
    "\n",
    "Marginal Cost / Custo Marginal: c'(q) = 0.1*q\n",
    "\n",
    "Marginal Revenue / Receita Marginal: R'(q) = 100 - (1/10)*q\n",
    "\n",
    "\"\"\"\"\"\n",
    "\n",
    "# Vectors for quantity, MC, MR, market demand\n",
    "# Vetores para quantidade, custo marginal, receita marginal, demanda de mercado\n",
    "\n",
    "q = np.zeros(1000)\n",
    "mc = np.zeros(1000)\n",
    "mr = np.zeros(1000)\n",
    "demand = np.zeros(1000)"
   ]
  },
  {
   "cell_type": "code",
   "execution_count": 3,
   "id": "c2f8d28e",
   "metadata": {},
   "outputs": [],
   "source": [
    "# Let's generate values for mc, mr and demand for each value of i\n",
    "# Vamos gerar valores de cmg, Rmg e demanda para cada valor de i\n",
    "\n",
    "for i in range(0,1000):\n",
    "    q[i] = i\n",
    "    mc[i] = 0.1*q[i]\n",
    "    mr[i] = 100 - (1/10)*q[i]\n",
    "    demand[i] = 100 - (1/20)*q[i]"
   ]
  },
  {
   "cell_type": "code",
   "execution_count": 4,
   "id": "1b693d2d",
   "metadata": {},
   "outputs": [
    {
     "data": {
      "text/plain": [
       "[<matplotlib.lines.Line2D at 0x2a52372f6d0>]"
      ]
     },
     "execution_count": 4,
     "metadata": {},
     "output_type": "execute_result"
    },
    {
     "data": {
      "image/png": "[encoded data removed]",
      "text/plain": [
       "<Figure size 432x288 with 1 Axes>"
      ]
     },
     "metadata": {
      "needs_background": "light"
     },
     "output_type": "display_data"
    }
   ],
   "source": [
    "fig, ax = plt.subplots()\n",
    "ax.plot(mc,'blue')\n",
    "ax.plot(mr,'red')\n",
    "ax.plot(demand,'green')\n"
   ]
  },
  {
   "cell_type": "code",
   "execution_count": null,
   "id": "9e6130a1",
   "metadata": {},
   "outputs": [],
   "source": []
  }
 ],
 "metadata": {
  "kernelspec": {
   "display_name": "Python 3",
   "language": "python",
   "name": "python3"
  },
  "language_info": {
   "codemirror_mode": {
    "name": "ipython",
    "version": 3
   },
   "file_extension": ".py",
   "mimetype": "text/x-python",
   "name": "python",
   "nbconvert_exporter": "python",
   "pygments_lexer": "ipython3",
   "version": "3.8.8"
  }
 },
 "nbformat": 4,
 "nbformat_minor": 5
}
