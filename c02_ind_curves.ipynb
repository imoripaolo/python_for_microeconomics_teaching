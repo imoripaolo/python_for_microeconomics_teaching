{
 "cells": [
  {
   "cell_type": "code",
   "execution_count": 1,
   "id": "5d6bd73f",
   "metadata": {},
   "outputs": [],
   "source": [
    "\"\"\"\"\n",
    "\n",
    "Ilustrating the Indifference Map / Ilustrando o Mapa de Indiferença\n",
    "\n",
    "Author / Autor: imoripaolo\n",
    "\n",
    "\"\"\"\"\"\n",
    "\n",
    "import numpy as np\n",
    "import matplotlib.pyplot as plt\n",
    "import math as math"
   ]
  },
  {
   "cell_type": "code",
   "execution_count": 2,
   "id": "3ad64eb4",
   "metadata": {},
   "outputs": [],
   "source": [
    "\"\"\"\n",
    "Our objective is to illustrate the concept of a indifference map, plotting indifference curves\n",
    "for a Cobb-Douglas utility function.\n",
    "\n",
    "----\n",
    "Nosso objetivo é ilustrar o conceito de mapa de indiferença, plotando curvas de indiferença para\n",
    "uma função de utilidade Cobb-Douglas\n",
    "\n",
    "\"\"\"\n",
    "\n",
    "# Let's create a function / Vamos criar uma função:\n",
    "def cd(x,y,alpha1,alpha2):\n",
    "    output = (x**alpha1)*(y**alpha2)\n",
    "    return output"
   ]
  },
  {
   "cell_type": "code",
   "execution_count": 3,
   "id": "1965ba9b",
   "metadata": {},
   "outputs": [],
   "source": [
    "\"\"\"\n",
    "Let's see:\n",
    "\n",
    "u = x_1^(alpha_1)x_2^(alpha)\n",
    "\n",
    "If du=0, than changes in x_1 must be compensated by changes in x_2. We'll check what combinations of\n",
    "x_1 and x_2 lead to a level of utility equal to u. Note:\n",
    "\n",
    "####\n",
    "\n",
    "Vamos ver:\n",
    "\n",
    "u = x_1^(alpha_1)x_2^(alpha)\n",
    "\n",
    "Se du=0, então mudanças em x_1 devem ser compensadas por mudanças em x_2. Vamos verificar quais\n",
    "combinações de x_1 e x_2 levam a níveis de utilidade iguais a u. Note:\n",
    "\n",
    "\"\"\"\n",
    "\n",
    "#Let's create a function / Vamos criar uma função:\n",
    "\n",
    "def ind(x,u,alpha1,alpha2):\n",
    "    output = (u/(x**alpha1))**(1/alpha2)\n",
    "    return output"
   ]
  },
  {
   "cell_type": "code",
   "execution_count": 4,
   "id": "0b03f665",
   "metadata": {},
   "outputs": [
    {
     "name": "stdout",
     "output_type": "stream",
     "text": [
      "3.0 6.0 4.0\n"
     ]
    }
   ],
   "source": [
    "# We'll see three examples / Vamos ver três exemplos:\n",
    "\n",
    "ex1 = ind(10,30,1,1) # x_1 = 10, u = 30, alpha_1=alpha_2=1\n",
    "ex2 = ind(5,30,1,1) # x_1 = 5, u = 30, alpha_1=alpha_2=1\n",
    "ex3 = ind(10,40,1,1) # x_1 = 10, u = 40, alpha_1=alpha_2=1\n",
    "\n",
    "# What value of x_2 makes the expression true? / Quais valores de x_2 tornam a expressão verdadeira?\n",
    "print(ex1,ex2,ex3)"
   ]
  },
  {
   "cell_type": "code",
   "execution_count": 5,
   "id": "7498d83d",
   "metadata": {},
   "outputs": [
    {
     "name": "stderr",
     "output_type": "stream",
     "text": [
      "<ipython-input-3-dcf932cd771b>:23: RuntimeWarning: divide by zero encountered in double_scalars\n",
      "  output = (u/(x**alpha1))**(1/alpha2)\n"
     ]
    },
    {
     "data": {
      "image/png": "[encoded data removed]",
      "text/plain": [
       "<Figure size 432x288 with 1 Axes>"
      ]
     },
     "metadata": {
      "needs_background": "light"
     },
     "output_type": "display_data"
    }
   ],
   "source": [
    "\"\"\"\n",
    "Now we'll plot an indifference curve. We make a linear space in x1 and check which values of x2\n",
    "makes the consumer has a utility level of 50.\n",
    "\n",
    "The linspace has 50 entries, and you can print the values of x2 if you're interested\n",
    "----\n",
    "Agora vamos plotar uma curva de indiferença. Vamos criar um linear space in x1 e verificar quais \n",
    "valores de x2 deixam o consumidor com um nível de utilidade igual a 50.\n",
    "\n",
    "O linspace terá 50 entradas, e você pode printar valores de x2 se você estiver interessado\n",
    "\"\"\"\n",
    "\n",
    "x1 = np.linspace(0,50, 50)\n",
    "x2 = np.zeros(50)\n",
    "for i in range(0, 50):\n",
    "    x2[i] = ind(x1[i],50,1,1)\n",
    "# print(x2)\n",
    "\n",
    "# Let's plot it / Vamos plotar:\n",
    "fig, ax = plt.subplots()\n",
    "ax.plot(x1,x2,'b')\n",
    "ax.set_ylabel('x2')\n",
    "ax.set_xlabel('x1')\n",
    "plt.show()"
   ]
  },
  {
   "cell_type": "code",
   "execution_count": 6,
   "id": "3b7245d3",
   "metadata": {},
   "outputs": [
    {
     "name": "stderr",
     "output_type": "stream",
     "text": [
      "<ipython-input-3-dcf932cd771b>:23: RuntimeWarning: divide by zero encountered in double_scalars\n",
      "  output = (u/(x**alpha1))**(1/alpha2)\n"
     ]
    },
    {
     "data": {
      "image/png": "[encoded data removed]",
      "text/plain": [
       "<Figure size 432x288 with 1 Axes>"
      ]
     },
     "metadata": {
      "needs_background": "light"
     },
     "output_type": "display_data"
    }
   ],
   "source": [
    "\"\"\"\n",
    "We'll plot next 3 indifference curves, creating a map of indifference.\n",
    "\n",
    "We'll select three arbitrary values of u.\n",
    "----\n",
    "\n",
    "Vamos plotar agora 3 curvas de indiferença, criando um mapa de indiferença.\n",
    "\n",
    "Vamos selecionar três valores arbitrários de u.\n",
    "\"\"\"\n",
    "\n",
    "x2b = np.zeros(50)\n",
    "for i in range(0, 50):\n",
    "    x2b[i] = ind(x1[i],30,1,1)\n",
    "\n",
    "x2c = np.zeros(50)\n",
    "for i in range(0, 50):\n",
    "    x2c[i] = ind(x1[i],70,1,1)\n",
    "\n",
    "# Plotar Mapa de Indiferença\n",
    "fig, ax = plt.subplots()\n",
    "ax.plot(x1,x2,'b')\n",
    "plt.xlim([0, 20])\n",
    "plt.ylim([0, 20])\n",
    "ax.plot(x1,x2b,'r')\n",
    "ax.plot(x1,x2c,'g')\n",
    "ax.set_ylabel('x2')\n",
    "ax.set_xlabel('x1')\n",
    "plt.show()"
   ]
  },
  {
   "cell_type": "code",
   "execution_count": null,
   "id": "16e9f6e9",
   "metadata": {},
   "outputs": [],
   "source": []
  }
 ],
 "metadata": {
  "kernelspec": {
   "display_name": "Python 3",
   "language": "python",
   "name": "python3"
  },
  "language_info": {
   "codemirror_mode": {
    "name": "ipython",
    "version": 3
   },
   "file_extension": ".py",
   "mimetype": "text/x-python",
   "name": "python",
   "nbconvert_exporter": "python",
   "pygments_lexer": "ipython3",
   "version": "3.8.8"
  }
 },
 "nbformat": 4,
 "nbformat_minor": 5
}
