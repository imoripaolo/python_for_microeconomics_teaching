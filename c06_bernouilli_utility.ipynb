{
 "cells": [
  {
   "cell_type": "code",
   "execution_count": 2,
   "id": "1cd213f1",
   "metadata": {},
   "outputs": [],
   "source": [
    "\"\"\"\n",
    "\n",
    "Bernouilli Utility Functions / Função de Utilidade Bernouilli\n",
    "\n",
    "Author / Autor: imoripaolo\n",
    "\n",
    "\"\"\"\n",
    "\n",
    "import numpy as np\n",
    "import matplotlib.pyplot as plt\n",
    "import math as math"
   ]
  },
  {
   "cell_type": "code",
   "execution_count": 3,
   "id": "2c806bd0",
   "metadata": {},
   "outputs": [
    {
     "name": "stdout",
     "output_type": "stream",
     "text": [
      "Utilidade em renda w_0 = 0.8646647167633873  & Utilidade Esperada = 0.8536927643579661\n",
      "Equivalente de Certeza = 96.10232573060841  & Prêmio de Risco = 3.8976742693915867\n"
     ]
    }
   ],
   "source": [
    "\"\"\"\n",
    "CARA Function / Função CARA : u(w) = 1-exp(-Aw)\n",
    "\"\"\"\n",
    "alpha, w0, h, p = 0.02, 100, 20, 0.5\n",
    "\n",
    "def CARA(w):\n",
    "    u = 1 - math.exp(-alpha*w)\n",
    "    return u\n",
    "\n",
    "cara_w0 = CARA(w0)\n",
    "cara_whp = CARA(w0 + h)\n",
    "cara_whm = CARA(w0 - h)\n",
    "# expected_value = p*(wo+h1) + (1-p)*(w0-h2)\n",
    "# u(el) = CARA(expected_value)\n",
    "cara_E = p*cara_whp + (1-p)*cara_whm\n",
    "cara_ce = -np.log(1 -cara_E)/alpha \n",
    "cara_rp = w0 - cara_ce\n",
    "#print(\"Utility at income w_0 =\", cara_w0, \" & Expected Utility =\", cara_E)\n",
    "#print(\"Certainty Equivalent =\", ce, \" & Risk Premium =\", rp)\n",
    "print(\"Utilidade em renda w_0 =\", cara_w0, \" & Utilidade Esperada =\", cara_E)\n",
    "print(\"Equivalente de Certeza =\", cara_ce, \" & Prêmio de Risco =\", cara_rp)"
   ]
  },
  {
   "cell_type": "code",
   "execution_count": 4,
   "id": "94b8879a",
   "metadata": {},
   "outputs": [
    {
     "name": "stdout",
     "output_type": "stream",
     "text": [
      "Utilidade em renda w_0 = 0.8646647167633873  & Utilidade Esperada = 0.8536927643579661\n",
      "Equivalente de Certeza = 95.99999999999999  & Prêmio de Risco = 4.000000000000014\n"
     ]
    }
   ],
   "source": [
    "\"\"\"\n",
    "CRRA Function / Função CRRA : u(w) = (w^(1-beta))/(1-beta)\n",
    "\"\"\"\n",
    "beta = 2\n",
    "def CRRA(w):\n",
    "    u = (w**(1-beta))/(1-beta)\n",
    "    return u\n",
    "\n",
    "crra_w0 = CRRA(w0)\n",
    "crra_whp = CRRA(w0 + h)\n",
    "crra_whm = CRRA(w0 - h)\n",
    "crra_E = p*crra_whp + (1-p)*crra_whm\n",
    "crra_ce = ((1-beta)*crra_E)**(1/(1-beta))\n",
    "crra_rp = w0 - crra_ce\n",
    "#print(\"Utility at income w_0 =\", cara_w0, \" & Expected Utility =\", cara_E)\n",
    "#print(\"Certainty Equivalent =\", ce, \" & Risk Premium =\", rp)\n",
    "print(\"Utilidade em renda w_0 =\", cara_w0, \" & Utilidade Esperada =\", cara_E)\n",
    "print(\"Equivalente de Certeza =\", crra_ce, \" & Prêmio de Risco =\", crra_rp)"
   ]
  },
  {
   "cell_type": "code",
   "execution_count": null,
   "id": "05fb90d0",
   "metadata": {},
   "outputs": [],
   "source": []
  }
 ],
 "metadata": {
  "kernelspec": {
   "display_name": "Python 3",
   "language": "python",
   "name": "python3"
  },
  "language_info": {
   "codemirror_mode": {
    "name": "ipython",
    "version": 3
   },
   "file_extension": ".py",
   "mimetype": "text/x-python",
   "name": "python",
   "nbconvert_exporter": "python",
   "pygments_lexer": "ipython3",
   "version": "3.8.8"
  }
 },
 "nbformat": 4,
 "nbformat_minor": 5
}
